{
 "cells": [
  {
   "cell_type": "markdown",
   "metadata": {},
   "source": [
    "# Final Assignment: Project Blind Search"
   ]
  },
  {
   "cell_type": "code",
   "execution_count": 1,
   "metadata": {},
   "outputs": [],
   "source": [
    "import numpy as np\n",
    "import matplotlib.pyplot as plt\n",
    "import os\n",
    "import subprocess\n",
    "import uuid\n",
    "import time"
   ]
  },
  {
   "cell_type": "code",
   "execution_count": null,
   "metadata": {},
   "outputs": [],
   "source": [
    "base_cmd = \"wsl\" # can be empty for local use\n",
    "exe_dir = \"/mnt/c/Users/janhe/datalab/code/\" # directory where the executable is found\n",
    "output_dir = \"/mnt/c/Users/janhe/datalab/solutions/ProjectBlindSearch/\" # directory to save the data file\n",
    "data_dir = \"/mnt/c/Users/janhe/datalab/solutions/exercise3/\" # directory for jupyter to find the data in"
   ]
  },
  {
   "cell_type": "code",
   "execution_count": 2,
   "metadata": {},
   "outputs": [],
   "source": [
    "def plotsignal(datafile):\n",
    "    x, y = np.loadtxt(datafile, delimiter=' ', unpack=True)\n",
    "    plt.plot(x, y)\n",
    "    plt.title(f'File {datafile}')\n",
    "    plt.xlabel('$t$')\n",
    "    plt.ylabel('$d(t)$')\n",
    "    plt.show()"
   ]
  },
  {
   "cell_type": "code",
   "execution_count": null,
   "metadata": {},
   "outputs": [],
   "source": []
  }
 ],
 "metadata": {
  "kernelspec": {
   "display_name": "Python 3",
   "language": "python",
   "name": "python3"
  },
  "language_info": {
   "codemirror_mode": {
    "name": "ipython",
    "version": 3
   },
   "file_extension": ".py",
   "mimetype": "text/x-python",
   "name": "python",
   "nbconvert_exporter": "python",
   "pygments_lexer": "ipython3",
   "version": "3.7.4"
  }
 },
 "nbformat": 4,
 "nbformat_minor": 2
}
