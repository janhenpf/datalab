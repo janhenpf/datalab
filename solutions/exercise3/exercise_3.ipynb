{
 "cells": [
  {
   "cell_type": "code",
   "execution_count": null,
   "metadata": {},
   "outputs": [],
   "source": [
    "import numpy as np\n",
    "import matplotlib.pyplot as plt\n",
    "import os\n",
    "import subprocess\n",
    "import uuid"
   ]
  },
  {
   "cell_type": "code",
   "execution_count": null,
   "metadata": {},
   "outputs": [],
   "source": [
    "base_cmd = \"wsl\" # can be empty for local use\n",
    "exe_dir = \"/mnt/c/Users/janhe/datalab/code/\" # directory where the executable is found\n",
    "output_dir = \"/mnt/c/Users/janhe/datalab/solutions/exercise1\" # directory to save the data file\n",
    "data_dir = \"/mnt/c/Users/janhe/datalab/solutions/exercise1\" # directory for jupyter to find the data in"
   ]
  },
  {
   "cell_type": "code",
   "execution_count": null,
   "metadata": {},
   "outputs": [],
   "source": [
    "# Call generate source with given parameters\n",
    "# Have some default values\n",
    "def generate_source(\n",
    "    outputFile=None, \n",
    "    sigma=0.25, \n",
    "    delta_T=None, \n",
    "    N=100000,\n",
    "    f=0, \n",
    "    phi=0, \n",
    "    A=0, \n",
    "    r=0\n",
    "):\n",
    "    \"\"\"\n",
    "    Usage: ./generate_source  [-h] [-o <file>] [-s <float>] [-d <float>] [-N <int>] [-f <float>] [-p <float>] [-a <float>] [-r <int>]\n",
    "      -o, --output=<file>       output file\n",
    "      -s, --sigma=<float>       standard deviation sigma\n",
    "      -d, --deltaT=<float>      delta T betwean measurements\n",
    "      -N, --length=<int>        number of elements\n",
    "      -f, --freq=<float>        frequency\n",
    "      -p, --phase=<float>       phase\n",
    "      -a, --amplitude=<float>   signal amplitude\n",
    "      -r, --random=<int>        if set to 1, generate random signal\n",
    "      -h, --help                print this help and exit\n",
    "    \"\"\"\n",
    "    if delta_T == None : \n",
    "        delta_T = 1/N\n",
    "    if outputFile == None:\n",
    "        outputFile = \"data_\" + str(uuid.uuid4()) + \".csv\"\n",
    "    \n",
    "    outputPath = os.path.join(output_dir, outputFile) # output_dir + \"/\" + \"myfilename.csv\"\n",
    "    exe_path = os.path.join(exe_dir, 'generate_source')\n",
    "    cmd_str = f\"{base_cmd} {exe_path} -o {outputPath} -s {sigma} \"\\\n",
    "        f\"-d {delta_T} -N {N} -f {f} -p {phi} -a {A} -r {r}\"\n",
    "    \n",
    "    # Optionally print the command line and test it outside the notebook\n",
    "    #print(cmd_str)\n",
    "    \n",
    "    cmd = cmd_str.split(' ')\n",
    "    process = subprocess.Popen(cmd,stdout=subprocess.PIPE)\n",
    "    out, err = process.communicate()\n",
    "    if err:\n",
    "        print('The process raised an error:', err.decode())\n",
    "    if out:\n",
    "        print('The process has an output:', out.decode())\n",
    "\n",
    "    return os.path.join(data_dir, outputFile)"
   ]
  },
  {
   "cell_type": "code",
   "execution_count": null,
   "metadata": {},
   "outputs": [],
   "source": [
    "def prober(i, m, f=0, p=0, o=None, t=None):\n",
    "    if o == None:\n",
    "        o = \"results_\" + str(uuid.uuid4()) + \".csv\"\n",
    "    \n",
    "    #path of the executable:\n",
    "    exe_path = os.path.join(exe_dir, 'prober')\n",
    "    \n",
    "    #command line: \"{base_cmd} \" taken out before \"{exe_path}\"\n",
    "    cmd_str = f\"{base_cmd} {exe_path} -i {output_dir}/{i} \"\\\n",
    "        f\"-o {output_dir}/{o} -m {m}\"\n",
    "    \n",
    "    if t:\n",
    "        cmd_str += f\" -t {output_dir}/{t} \"\n",
    "    else:\n",
    "        cmd_str += f\" -f {f} -p {p}\"\n",
    "    \n",
    "    # Optionally print the command line and test it outside the notebook\n",
    "    #print(cmd_str)\n",
    "    \n",
    "    cmd = cmd_str.split(' ')\n",
    "    process = subprocess.Popen(cmd, shell=True, stdout=subprocess.PIPE)\n",
    "    out, err = process.communicate()\n",
    "    if err:\n",
    "        print('The process raised an error:', err.decode())\n",
    "    if out:\n",
    "        print('The process has an output:', out.decode())\n",
    "    if os.path.isfile(o):\n",
    "        print(f\"Output generated in file {o}\")\n",
    "\n",
    "    return os.path.join(data_dir, o)"
   ]
  }
 ],
 "metadata": {
  "kernelspec": {
   "display_name": "Python 3",
   "language": "python",
   "name": "python3"
  },
  "language_info": {
   "codemirror_mode": {
    "name": "ipython",
    "version": 3
   },
   "file_extension": ".py",
   "mimetype": "text/x-python",
   "name": "python",
   "nbconvert_exporter": "python",
   "pygments_lexer": "ipython3",
   "version": "3.7.4"
  }
 },
 "nbformat": 4,
 "nbformat_minor": 2
}
