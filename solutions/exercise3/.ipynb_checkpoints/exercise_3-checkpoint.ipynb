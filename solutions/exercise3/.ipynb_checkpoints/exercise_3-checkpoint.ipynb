{
 "cells": [
  {
   "cell_type": "markdown",
   "metadata": {},
   "source": [
    "# Exercise 3: Template Banks"
   ]
  },
  {
   "cell_type": "code",
   "execution_count": 1,
   "metadata": {},
   "outputs": [],
   "source": [
    "import numpy as np\n",
    "import matplotlib.pyplot as plt\n",
    "import os\n",
    "import subprocess\n",
    "import uuid"
   ]
  },
  {
   "cell_type": "code",
   "execution_count": 2,
   "metadata": {},
   "outputs": [],
   "source": [
    "base_cmd = \"wsl\" # can be empty for local use\n",
    "exe_dir = \"/mnt/c/Users/janhe/datalab/code/\" # directory where the executable is found\n",
    "output_dir = \"/mnt/c/Users/janhe/datalab/solutions/exercise3/\" # directory to save the data file\n",
    "data_dir = \"/mnt/c/Users/janhe/datalab/solutions/exercise3/\" # directory for jupyter to find the data in"
   ]
  },
  {
   "cell_type": "markdown",
   "metadata": {},
   "source": [
    "The function generate_source:"
   ]
  },
  {
   "cell_type": "raw",
   "metadata": {},
   "source": [
    "Usage: ./generate_source  [-h] [-o <file>] [-s <float>] [-d <float>] [-N <int>] [-f <float>] [-p <float>] [-a <float>] [-r <int>]\n",
    "      -o, --output=<file>       output file\n",
    "      -s, --sigma=<float>       standard deviation sigma\n",
    "      -d, --deltaT=<float>      delta T betwean measurements\n",
    "      -N, --length=<int>        number of elements\n",
    "      -f, --freq=<float>        frequency\n",
    "      -p, --phase=<float>       phase\n",
    "      -a, --amplitude=<float>   signal amplitude\n",
    "      -r, --random=<int>        if set to 1, generate random signal\n",
    "      -h, --help                print this help and exit"
   ]
  },
  {
   "cell_type": "code",
   "execution_count": 3,
   "metadata": {},
   "outputs": [],
   "source": [
    "# Call generate source with given parameters\n",
    "# Have some default values\n",
    "def generate_source(\n",
    "    outputFile=None, \n",
    "    sigma=0.25, \n",
    "    delta_T=None, \n",
    "    N=100000,\n",
    "    f=0, \n",
    "    phi=0, \n",
    "    A=0, \n",
    "    r=0\n",
    "):\n",
    "    if delta_T == None : \n",
    "        delta_T = 1/N\n",
    "    if outputFile == None:\n",
    "        outputFile = \"data_\" + str(uuid.uuid4()) + \".csv\"\n",
    "    \n",
    "    outputPath = os.path.join(output_dir, outputFile) # output_dir + \"/\" + \"myfilename.csv\"\n",
    "    exe_path = os.path.join(exe_dir, 'generate_source')\n",
    "    cmd_str = f\"{base_cmd} {exe_path} -o {outputPath} -s {sigma} \"\\\n",
    "        f\"-d {delta_T} -N {N} -f {f} -p {phi} -a {A} -r {r}\"\n",
    "    \n",
    "    # Optionally print the command line and test it outside the notebook\n",
    "    #print(cmd_str)\n",
    "    \n",
    "    cmd = cmd_str.split(' ')\n",
    "    process = subprocess.Popen(cmd,stdout=subprocess.PIPE)\n",
    "    out, err = process.communicate()\n",
    "    if err:\n",
    "        print('The process raised an error:', err.decode())\n",
    "    if out:\n",
    "        print('The process has an output:', out.decode())\n",
    "\n",
    "    return os.path.join(data_dir, outputFile)"
   ]
  },
  {
   "cell_type": "markdown",
   "metadata": {},
   "source": [
    "The function prober:"
   ]
  },
  {
   "cell_type": "raw",
   "metadata": {},
   "source": [
    "Usage: ./prober  [-h] [-i <file>] [-o <file>] [-f <float>] [-p <float>] [-t <file>] [-m <int>]\n",
    "      -i, --input=<file>        input file\n",
    "      -o, --output=<file>       output file\n",
    "      -f, --freq=<float>        frequency\n",
    "      -p, --phase=<float>       phase\n",
    "      -h, --help                print this help and exit\n",
    "      -t, --templatebank=<file> template bank file\n",
    "      -m, --method=<int>        select method to analyze signal 1, 2 or 3"
   ]
  },
  {
   "cell_type": "code",
   "execution_count": 4,
   "metadata": {},
   "outputs": [],
   "source": [
    "def prober(inputFile, f=0, outputFile=None, phi=0, templateFile=None, mod=1):\n",
    "    if outputFile == None:\n",
    "        outputFile = \"results_\" + str(uuid.uuid4()) + \".csv\"\n",
    "    \n",
    "    #path of the executable:\n",
    "    exe_path = os.path.join(exe_dir, 'prober')\n",
    "    \n",
    "    #command line:\n",
    "    cmd_str = f\"{base_cmd} {exe_path} -i {output_dir}/{inputFile} \"\\\n",
    "        f\"-o {output_dir}/{outputFile} -m {mod}\"\n",
    "    \n",
    "    if templateFile:\n",
    "        cmd_str += f\" -t {output_dir}/{templateFile} \"\n",
    "    else:\n",
    "        cmd_str += f\" -f {f} -p {phi}\"\n",
    "    \n",
    "    # Optionally print the command line and test it outside the notebook\n",
    "    # print(cmd_str)\n",
    "    \n",
    "    cmd = cmd_str.split(' ')\n",
    "    process = subprocess.Popen(cmd, shell=True, stdout=subprocess.PIPE)\n",
    "    out, err = process.communicate()\n",
    "    if err:\n",
    "        print('The process raised an error:', err.decode())\n",
    "    if out:\n",
    "        print('The process has an output:', out.decode())\n",
    "    if os.path.isfile(outputFile):\n",
    "        print(f\"Output generated in file {outputFile}\")\n",
    "\n",
    "    return os.path.join(data_dir, outputFile)"
   ]
  },
  {
   "cell_type": "markdown",
   "metadata": {},
   "source": [
    "## Task 1"
   ]
  },
  {
   "cell_type": "markdown",
   "metadata": {},
   "source": [
    "Create the signals:"
   ]
  },
  {
   "cell_type": "code",
   "execution_count": 5,
   "metadata": {},
   "outputs": [],
   "source": [
    "for i in range(11):\n",
    "    for k in range(11):\n",
    "        fr = 40+k*0.01\n",
    "        ph = i*0.0005*np.pi\n",
    "        generate_source(outputFile=f\"data_{k}_{i}.csv\",N=1000,f=fr,phi=ph,A=1)"
   ]
  },
  {
   "cell_type": "markdown",
   "metadata": {},
   "source": [
    "Create the template bank:"
   ]
  },
  {
   "cell_type": "code",
   "execution_count": 6,
   "metadata": {},
   "outputs": [],
   "source": [
    "num_f = 500\n",
    "f_list_prober = np.linspace(0.2,100.0,num_f)\n",
    "num_p = 200\n",
    "p_list_prober = np.linspace(0,1.99*np.pi,num_p)"
   ]
  },
  {
   "cell_type": "code",
   "execution_count": 7,
   "metadata": {},
   "outputs": [],
   "source": [
    "tb = 'tb.txt'\n",
    "with open(tb,'w') as file:\n",
    "    for p in p_list_prober:\n",
    "        for f in f_list_prober:\n",
    "            file.write(\"{0} {1}\\n\".format(f,p))"
   ]
  },
  {
   "cell_type": "markdown",
   "metadata": {},
   "source": [
    "A function finding the maximum value for S1, i.e. the best match:"
   ]
  },
  {
   "cell_type": "code",
   "execution_count": 8,
   "metadata": {},
   "outputs": [],
   "source": [
    "def findmax(infile, outfile):\n",
    "    prober(inputFile=infile, outputFile=outfile, templateFile=\"tb.txt\")\n",
    "    results = np.loadtxt(outfile)\n",
    "    values = results[:,2]\n",
    "    # Find the maximum:\n",
    "    #best = np.where(values == np.max(values))\n",
    "    #freq = results[:,0][best][0]\n",
    "    #phase = results[:,1][best][0]\n",
    "    s = np.max(values) #values[best][0]\n",
    "    return s"
   ]
  },
  {
   "cell_type": "markdown",
   "metadata": {},
   "source": [
    "A list containing the mismatches for all signals:"
   ]
  },
  {
   "cell_type": "code",
   "execution_count": 10,
   "metadata": {
    "scrolled": true
   },
   "outputs": [
    {
     "name": "stdout",
     "output_type": "stream",
     "text": [
      "Output generated in file s_correct_0_0.csv\n",
      "Output generated in file analyze_0_0.csv\n",
      "Output generated in file s_correct_1_0.csv\n",
      "Output generated in file analyze_1_0.csv\n",
      "Output generated in file s_correct_2_0.csv\n",
      "Output generated in file analyze_2_0.csv\n",
      "Output generated in file s_correct_3_0.csv\n",
      "Output generated in file analyze_3_0.csv\n",
      "Output generated in file s_correct_4_0.csv\n",
      "Output generated in file analyze_4_0.csv\n",
      "Output generated in file s_correct_5_0.csv\n",
      "Output generated in file analyze_5_0.csv\n",
      "Output generated in file s_correct_6_0.csv\n",
      "Output generated in file analyze_6_0.csv\n",
      "Output generated in file s_correct_7_0.csv\n",
      "Output generated in file analyze_7_0.csv\n",
      "Output generated in file s_correct_8_0.csv\n",
      "Output generated in file analyze_8_0.csv\n",
      "Output generated in file s_correct_9_0.csv\n",
      "Output generated in file analyze_9_0.csv\n",
      "Output generated in file s_correct_10_0.csv\n",
      "Output generated in file analyze_10_0.csv\n",
      "Output generated in file s_correct_0_1.csv\n",
      "Output generated in file analyze_0_1.csv\n",
      "Output generated in file s_correct_1_1.csv\n",
      "Output generated in file analyze_1_1.csv\n",
      "Output generated in file s_correct_2_1.csv\n",
      "Output generated in file analyze_2_1.csv\n",
      "Output generated in file s_correct_3_1.csv\n",
      "Output generated in file analyze_3_1.csv\n",
      "Output generated in file s_correct_4_1.csv\n",
      "Output generated in file analyze_4_1.csv\n",
      "Output generated in file s_correct_5_1.csv\n",
      "Output generated in file analyze_5_1.csv\n",
      "Output generated in file s_correct_6_1.csv\n",
      "Output generated in file analyze_6_1.csv\n",
      "Output generated in file s_correct_7_1.csv\n",
      "Output generated in file analyze_7_1.csv\n",
      "Output generated in file s_correct_8_1.csv\n",
      "Output generated in file analyze_8_1.csv\n",
      "Output generated in file s_correct_9_1.csv\n",
      "Output generated in file analyze_9_1.csv\n",
      "Output generated in file s_correct_10_1.csv\n",
      "Output generated in file analyze_10_1.csv\n",
      "Output generated in file s_correct_0_2.csv\n",
      "Output generated in file analyze_0_2.csv\n",
      "Output generated in file s_correct_1_2.csv\n",
      "Output generated in file analyze_1_2.csv\n",
      "Output generated in file s_correct_2_2.csv\n",
      "Output generated in file analyze_2_2.csv\n",
      "Output generated in file s_correct_3_2.csv\n",
      "Output generated in file analyze_3_2.csv\n",
      "Output generated in file s_correct_4_2.csv\n",
      "Output generated in file analyze_4_2.csv\n",
      "Output generated in file s_correct_5_2.csv\n",
      "Output generated in file analyze_5_2.csv\n",
      "Output generated in file s_correct_6_2.csv\n",
      "Output generated in file analyze_6_2.csv\n",
      "Output generated in file s_correct_7_2.csv\n",
      "Output generated in file analyze_7_2.csv\n",
      "Output generated in file s_correct_8_2.csv\n",
      "Output generated in file analyze_8_2.csv\n",
      "Output generated in file s_correct_9_2.csv\n",
      "Output generated in file analyze_9_2.csv\n",
      "Output generated in file s_correct_10_2.csv\n",
      "Output generated in file analyze_10_2.csv\n",
      "Output generated in file s_correct_0_3.csv\n",
      "Output generated in file analyze_0_3.csv\n",
      "Output generated in file s_correct_1_3.csv\n",
      "Output generated in file analyze_1_3.csv\n",
      "Output generated in file s_correct_2_3.csv\n",
      "Output generated in file analyze_2_3.csv\n",
      "Output generated in file s_correct_3_3.csv\n",
      "Output generated in file analyze_3_3.csv\n",
      "Output generated in file s_correct_4_3.csv\n",
      "Output generated in file analyze_4_3.csv\n",
      "Output generated in file s_correct_5_3.csv\n",
      "Output generated in file analyze_5_3.csv\n",
      "Output generated in file s_correct_6_3.csv\n",
      "Output generated in file analyze_6_3.csv\n",
      "Output generated in file s_correct_7_3.csv\n",
      "Output generated in file analyze_7_3.csv\n",
      "Output generated in file s_correct_8_3.csv\n",
      "Output generated in file analyze_8_3.csv\n",
      "Output generated in file s_correct_9_3.csv\n",
      "Output generated in file analyze_9_3.csv\n",
      "Output generated in file s_correct_10_3.csv\n",
      "Output generated in file analyze_10_3.csv\n",
      "Output generated in file s_correct_0_4.csv\n",
      "Output generated in file analyze_0_4.csv\n",
      "Output generated in file s_correct_1_4.csv\n",
      "Output generated in file analyze_1_4.csv\n",
      "Output generated in file s_correct_2_4.csv\n",
      "Output generated in file analyze_2_4.csv\n",
      "Output generated in file s_correct_3_4.csv\n",
      "Output generated in file analyze_3_4.csv\n",
      "Output generated in file s_correct_4_4.csv\n",
      "Output generated in file analyze_4_4.csv\n",
      "Output generated in file s_correct_5_4.csv\n",
      "Output generated in file analyze_5_4.csv\n",
      "Output generated in file s_correct_6_4.csv\n",
      "Output generated in file analyze_6_4.csv\n",
      "Output generated in file s_correct_7_4.csv\n",
      "Output generated in file analyze_7_4.csv\n",
      "Output generated in file s_correct_8_4.csv\n",
      "Output generated in file analyze_8_4.csv\n",
      "Output generated in file s_correct_9_4.csv\n",
      "Output generated in file analyze_9_4.csv\n",
      "Output generated in file s_correct_10_4.csv\n",
      "Output generated in file analyze_10_4.csv\n",
      "Output generated in file s_correct_0_5.csv\n",
      "Output generated in file analyze_0_5.csv\n",
      "Output generated in file s_correct_1_5.csv\n",
      "Output generated in file analyze_1_5.csv\n",
      "Output generated in file s_correct_2_5.csv\n",
      "Output generated in file analyze_2_5.csv\n",
      "Output generated in file s_correct_3_5.csv\n",
      "Output generated in file analyze_3_5.csv\n",
      "Output generated in file s_correct_4_5.csv\n",
      "Output generated in file analyze_4_5.csv\n",
      "Output generated in file s_correct_5_5.csv\n",
      "Output generated in file analyze_5_5.csv\n",
      "Output generated in file s_correct_6_5.csv\n",
      "Output generated in file analyze_6_5.csv\n",
      "Output generated in file s_correct_7_5.csv\n",
      "Output generated in file analyze_7_5.csv\n",
      "Output generated in file s_correct_8_5.csv\n",
      "Output generated in file analyze_8_5.csv\n",
      "Output generated in file s_correct_9_5.csv\n",
      "Output generated in file analyze_9_5.csv\n",
      "Output generated in file s_correct_10_5.csv\n",
      "Output generated in file analyze_10_5.csv\n",
      "Output generated in file s_correct_0_6.csv\n",
      "Output generated in file analyze_0_6.csv\n",
      "Output generated in file s_correct_1_6.csv\n",
      "Output generated in file analyze_1_6.csv\n",
      "Output generated in file s_correct_2_6.csv\n",
      "Output generated in file analyze_2_6.csv\n",
      "Output generated in file s_correct_3_6.csv\n",
      "Output generated in file analyze_3_6.csv\n",
      "Output generated in file s_correct_4_6.csv\n",
      "Output generated in file analyze_4_6.csv\n",
      "Output generated in file s_correct_5_6.csv\n",
      "Output generated in file analyze_5_6.csv\n",
      "Output generated in file s_correct_6_6.csv\n",
      "Output generated in file analyze_6_6.csv\n",
      "Output generated in file s_correct_7_6.csv\n",
      "Output generated in file analyze_7_6.csv\n",
      "Output generated in file s_correct_8_6.csv\n",
      "Output generated in file analyze_8_6.csv\n",
      "Output generated in file s_correct_9_6.csv\n",
      "Output generated in file analyze_9_6.csv\n",
      "Output generated in file s_correct_10_6.csv\n",
      "Output generated in file analyze_10_6.csv\n",
      "Output generated in file s_correct_0_7.csv\n",
      "Output generated in file analyze_0_7.csv\n",
      "Output generated in file s_correct_1_7.csv\n",
      "Output generated in file analyze_1_7.csv\n",
      "Output generated in file s_correct_2_7.csv\n",
      "Output generated in file analyze_2_7.csv\n",
      "Output generated in file s_correct_3_7.csv\n",
      "Output generated in file analyze_3_7.csv\n",
      "Output generated in file s_correct_4_7.csv\n",
      "Output generated in file analyze_4_7.csv\n",
      "Output generated in file s_correct_5_7.csv\n",
      "Output generated in file analyze_5_7.csv\n",
      "Output generated in file s_correct_6_7.csv\n",
      "Output generated in file analyze_6_7.csv\n",
      "Output generated in file s_correct_7_7.csv\n",
      "Output generated in file analyze_7_7.csv\n",
      "Output generated in file s_correct_8_7.csv\n",
      "Output generated in file analyze_8_7.csv\n",
      "Output generated in file s_correct_9_7.csv\n",
      "Output generated in file analyze_9_7.csv\n",
      "Output generated in file s_correct_10_7.csv\n",
      "Output generated in file analyze_10_7.csv\n",
      "Output generated in file s_correct_0_8.csv\n",
      "Output generated in file analyze_0_8.csv\n",
      "Output generated in file s_correct_1_8.csv\n",
      "Output generated in file analyze_1_8.csv\n",
      "Output generated in file s_correct_2_8.csv\n",
      "Output generated in file analyze_2_8.csv\n",
      "Output generated in file s_correct_3_8.csv\n",
      "Output generated in file analyze_3_8.csv\n",
      "Output generated in file s_correct_4_8.csv\n",
      "Output generated in file analyze_4_8.csv\n",
      "Output generated in file s_correct_5_8.csv\n",
      "Output generated in file analyze_5_8.csv\n",
      "Output generated in file s_correct_6_8.csv\n",
      "Output generated in file analyze_6_8.csv\n",
      "Output generated in file s_correct_7_8.csv\n",
      "Output generated in file analyze_7_8.csv\n",
      "Output generated in file s_correct_8_8.csv\n",
      "Output generated in file analyze_8_8.csv\n",
      "Output generated in file s_correct_9_8.csv\n"
     ]
    },
    {
     "name": "stdout",
     "output_type": "stream",
     "text": [
      "Output generated in file analyze_9_8.csv\n",
      "Output generated in file s_correct_10_8.csv\n",
      "Output generated in file analyze_10_8.csv\n",
      "Output generated in file s_correct_0_9.csv\n",
      "Output generated in file analyze_0_9.csv\n",
      "Output generated in file s_correct_1_9.csv\n",
      "Output generated in file analyze_1_9.csv\n",
      "Output generated in file s_correct_2_9.csv\n",
      "Output generated in file analyze_2_9.csv\n",
      "Output generated in file s_correct_3_9.csv\n",
      "Output generated in file analyze_3_9.csv\n",
      "Output generated in file s_correct_4_9.csv\n",
      "Output generated in file analyze_4_9.csv\n",
      "Output generated in file s_correct_5_9.csv\n",
      "Output generated in file analyze_5_9.csv\n",
      "Output generated in file s_correct_6_9.csv\n",
      "Output generated in file analyze_6_9.csv\n",
      "Output generated in file s_correct_7_9.csv\n",
      "Output generated in file analyze_7_9.csv\n",
      "Output generated in file s_correct_8_9.csv\n",
      "Output generated in file analyze_8_9.csv\n",
      "Output generated in file s_correct_9_9.csv\n",
      "Output generated in file analyze_9_9.csv\n",
      "Output generated in file s_correct_10_9.csv\n",
      "Output generated in file analyze_10_9.csv\n",
      "Output generated in file s_correct_0_10.csv\n",
      "Output generated in file analyze_0_10.csv\n",
      "Output generated in file s_correct_1_10.csv\n",
      "Output generated in file analyze_1_10.csv\n",
      "Output generated in file s_correct_2_10.csv\n",
      "Output generated in file analyze_2_10.csv\n",
      "Output generated in file s_correct_3_10.csv\n",
      "Output generated in file analyze_3_10.csv\n",
      "Output generated in file s_correct_4_10.csv\n",
      "Output generated in file analyze_4_10.csv\n",
      "Output generated in file s_correct_5_10.csv\n",
      "Output generated in file analyze_5_10.csv\n",
      "Output generated in file s_correct_6_10.csv\n",
      "Output generated in file analyze_6_10.csv\n",
      "Output generated in file s_correct_7_10.csv\n",
      "Output generated in file analyze_7_10.csv\n",
      "Output generated in file s_correct_8_10.csv\n",
      "Output generated in file analyze_8_10.csv\n",
      "Output generated in file s_correct_9_10.csv\n",
      "Output generated in file analyze_9_10.csv\n",
      "Output generated in file s_correct_10_10.csv\n",
      "Output generated in file analyze_10_10.csv\n"
     ]
    }
   ],
   "source": [
    "mismatches = []\n",
    "\n",
    "for i in range(11):\n",
    "    for k in range(11):\n",
    "        fr = 40+k*0.01\n",
    "        ph = i*0.0005*np.pi\n",
    "        with open(f\"tb_{k}_{i}.txt\",'w') as file:\n",
    "            file.write(\"{0} {1}\\n\".format(fr,ph))\n",
    "        prober(inputFile=f\"data_{k}_{i}.csv\", outputFile=f\"s_correct_{k}_{i}.csv\", templateFile=f\"tb_{k}_{i}.txt\")\n",
    "        s_correct = np.loadtxt(f\"s_correct_{k}_{i}.csv\")[2]\n",
    "        s_best = findmax(infile=f\"data_{k}_{i}.csv\", outfile=f\"analyze_{k}_{i}.csv\")\n",
    "        mismatch = 1 - s_best/s_correct\n",
    "        mismatches = np.append(mismatches, mismatch)"
   ]
  },
  {
   "cell_type": "code",
   "execution_count": 15,
   "metadata": {
    "scrolled": true
   },
   "outputs": [
    {
     "name": "stdout",
     "output_type": "stream",
     "text": [
      "[ 0.00000000e+00  1.25641419e-04 -2.48020374e-04  1.74525678e-03\n",
      "  1.69781341e-03  3.91917289e-03  5.55583585e-03  7.73964827e-03\n",
      "  7.76832363e-03  9.88931551e-03  1.14944873e-02  4.02988563e-06\n",
      "  1.44834828e-04 -1.36349874e-04  1.79662375e-03  1.07873325e-03\n",
      "  1.80189189e-03  1.94423321e-03  7.82294490e-03  1.27849616e-02\n",
      "  1.10051243e-02  1.51950570e-02 -4.48909491e-04 -9.93852031e-05\n",
      "  8.88816737e-04  1.62308071e-03  1.97101727e-03  4.69502224e-03\n",
      "  2.96114127e-03  4.87307137e-03  7.74394524e-03  1.37601542e-02\n",
      "  1.35611191e-02  4.06026241e-05  8.55610717e-05  4.01844084e-04\n",
      "  1.87566227e-03  2.88345671e-03  3.50302746e-03  5.10674795e-03\n",
      "  9.46286932e-03  9.77175520e-03  1.31004367e-02  1.09168139e-02\n",
      "  5.90619777e-05  2.29436046e-04  1.27172017e-04  7.12252114e-04\n",
      "  3.27702335e-03  5.49440751e-03  4.48133442e-03  9.27161910e-03\n",
      "  1.23277273e-02  1.39917431e-02  1.39260749e-02  2.41070352e-05\n",
      "  1.35701221e-04  3.39495878e-04  6.82143206e-04  3.19465738e-03\n",
      "  4.52381521e-03  4.50713613e-03  8.82619345e-03  1.25389461e-02\n",
      "  1.11017642e-02  1.45869694e-02 -2.98716713e-05  4.89132096e-05\n",
      "  4.99486528e-05  8.31928095e-04  4.23971606e-03  3.67107633e-03\n",
      "  7.35046985e-03  7.19049290e-03  6.64349292e-03  1.40711671e-02\n",
      "  1.54380301e-02 -4.20594721e-05  2.39761959e-04 -2.71438167e-04\n",
      "  9.66731314e-04  4.25348614e-03  4.73239663e-03  3.88472692e-03\n",
      "  6.71637289e-03  9.61089127e-03  1.32641315e-02  1.59633187e-02\n",
      "  1.09160595e-04  4.14063162e-05  2.40762253e-04  2.95856781e-04\n",
      "  2.72457523e-03  3.18622453e-03  5.10005481e-03  4.93017925e-03\n",
      "  1.14404660e-02  1.38187595e-02  1.50237870e-02  5.86239938e-05\n",
      "  1.84025764e-04  3.37224124e-04  1.55234614e-03  4.11482416e-03\n",
      "  3.86613800e-03  2.59540135e-03  5.11194423e-03  9.16316147e-03\n",
      "  1.32677072e-02  1.42963739e-02  1.21776905e-04  3.04335987e-04\n",
      "  1.72711572e-04  2.38625206e-04  1.89575547e-03  2.48506858e-03\n",
      "  4.76684519e-03  7.55159957e-03  1.13568206e-02  1.20994927e-02\n",
      "  1.53574338e-02]\n"
     ]
    }
   ],
   "source": [
    "print(mismatches)"
   ]
  },
  {
   "cell_type": "markdown",
   "metadata": {},
   "source": [
    "Convert the 1D array to a 2D array:"
   ]
  },
  {
   "cell_type": "code",
   "execution_count": 11,
   "metadata": {},
   "outputs": [],
   "source": [
    "arr2d = np.reshape(mismatches, (11, 11))"
   ]
  },
  {
   "cell_type": "code",
   "execution_count": 12,
   "metadata": {
    "scrolled": true
   },
   "outputs": [
    {
     "name": "stdout",
     "output_type": "stream",
     "text": [
      "[[ 0.00000000e+00  1.25641419e-04 -2.48020374e-04  1.74525678e-03\n",
      "   1.69781341e-03  3.91917289e-03  5.55583585e-03  7.73964827e-03\n",
      "   7.76832363e-03  9.88931551e-03  1.14944873e-02]\n",
      " [ 4.02988563e-06  1.44834828e-04 -1.36349874e-04  1.79662375e-03\n",
      "   1.07873325e-03  1.80189189e-03  1.94423321e-03  7.82294490e-03\n",
      "   1.27849616e-02  1.10051243e-02  1.51950570e-02]\n",
      " [-4.48909491e-04 -9.93852031e-05  8.88816737e-04  1.62308071e-03\n",
      "   1.97101727e-03  4.69502224e-03  2.96114127e-03  4.87307137e-03\n",
      "   7.74394524e-03  1.37601542e-02  1.35611191e-02]\n",
      " [ 4.06026241e-05  8.55610717e-05  4.01844084e-04  1.87566227e-03\n",
      "   2.88345671e-03  3.50302746e-03  5.10674795e-03  9.46286932e-03\n",
      "   9.77175520e-03  1.31004367e-02  1.09168139e-02]\n",
      " [ 5.90619777e-05  2.29436046e-04  1.27172017e-04  7.12252114e-04\n",
      "   3.27702335e-03  5.49440751e-03  4.48133442e-03  9.27161910e-03\n",
      "   1.23277273e-02  1.39917431e-02  1.39260749e-02]\n",
      " [ 2.41070352e-05  1.35701221e-04  3.39495878e-04  6.82143206e-04\n",
      "   3.19465738e-03  4.52381521e-03  4.50713613e-03  8.82619345e-03\n",
      "   1.25389461e-02  1.11017642e-02  1.45869694e-02]\n",
      " [-2.98716713e-05  4.89132096e-05  4.99486528e-05  8.31928095e-04\n",
      "   4.23971606e-03  3.67107633e-03  7.35046985e-03  7.19049290e-03\n",
      "   6.64349292e-03  1.40711671e-02  1.54380301e-02]\n",
      " [-4.20594721e-05  2.39761959e-04 -2.71438167e-04  9.66731314e-04\n",
      "   4.25348614e-03  4.73239663e-03  3.88472692e-03  6.71637289e-03\n",
      "   9.61089127e-03  1.32641315e-02  1.59633187e-02]\n",
      " [ 1.09160595e-04  4.14063162e-05  2.40762253e-04  2.95856781e-04\n",
      "   2.72457523e-03  3.18622453e-03  5.10005481e-03  4.93017925e-03\n",
      "   1.14404660e-02  1.38187595e-02  1.50237870e-02]\n",
      " [ 5.86239938e-05  1.84025764e-04  3.37224124e-04  1.55234614e-03\n",
      "   4.11482416e-03  3.86613800e-03  2.59540135e-03  5.11194423e-03\n",
      "   9.16316147e-03  1.32677072e-02  1.42963739e-02]\n",
      " [ 1.21776905e-04  3.04335987e-04  1.72711572e-04  2.38625206e-04\n",
      "   1.89575547e-03  2.48506858e-03  4.76684519e-03  7.55159957e-03\n",
      "   1.13568206e-02  1.20994927e-02  1.53574338e-02]]\n"
     ]
    }
   ],
   "source": [
    "print(arr2d)"
   ]
  },
  {
   "cell_type": "markdown",
   "metadata": {},
   "source": [
    "A contour plot of the mismatch depending on the differences of frequency and phase:"
   ]
  },
  {
   "cell_type": "code",
   "execution_count": 9,
   "metadata": {},
   "outputs": [],
   "source": [
    "#Arrays with the differences between frequencies and phases of the signal and the nearest template:\n",
    "x = np.linspace(0,0.1,11)\n",
    "y = np.linspace(0,0.005*np.pi,11)"
   ]
  },
  {
   "cell_type": "code",
   "execution_count": 13,
   "metadata": {},
   "outputs": [
    {
     "data": {
      "text/plain": [
       "<matplotlib.colorbar.Colorbar at 0x2138d7c96c8>"
      ]
     },
     "execution_count": 13,
     "metadata": {},
     "output_type": "execute_result"
    },
    {
     "data": {
      "image/png": "[encoded data removed]",
      "text/plain": [
       "<Figure size 432x288 with 2 Axes>"
      ]
     },
     "metadata": {
      "needs_background": "light"
     },
     "output_type": "display_data"
    }
   ],
   "source": [
    "plt.contourf(x,y,arr2d)\n",
    "plt.colorbar()"
   ]
  },
  {
   "cell_type": "code",
   "execution_count": 17,
   "metadata": {},
   "outputs": [],
   "source": [
    "z = np.zeros(11)"
   ]
  },
  {
   "cell_type": "code",
   "execution_count": 19,
   "metadata": {},
   "outputs": [
    {
     "ename": "ValueError",
     "evalue": "Unknown projection '3d'",
     "output_type": "error",
     "traceback": [
      "\u001b[1;31m---------------------------------------------------------------------------\u001b[0m",
      "\u001b[1;31mKeyError\u001b[0m                                  Traceback (most recent call last)",
      "\u001b[1;32m~\\Anaconda3\\lib\\site-packages\\matplotlib\\projections\\__init__.py\u001b[0m in \u001b[0;36mget_projection_class\u001b[1;34m(projection)\u001b[0m\n\u001b[0;32m     57\u001b[0m     \u001b[1;32mtry\u001b[0m\u001b[1;33m:\u001b[0m\u001b[1;33m\u001b[0m\u001b[1;33m\u001b[0m\u001b[0m\n\u001b[1;32m---> 58\u001b[1;33m         \u001b[1;32mreturn\u001b[0m \u001b[0mprojection_registry\u001b[0m\u001b[1;33m.\u001b[0m\u001b[0mget_projection_class\u001b[0m\u001b[1;33m(\u001b[0m\u001b[0mprojection\u001b[0m\u001b[1;33m)\u001b[0m\u001b[1;33m\u001b[0m\u001b[1;33m\u001b[0m\u001b[0m\n\u001b[0m\u001b[0;32m     59\u001b[0m     \u001b[1;32mexcept\u001b[0m \u001b[0mKeyError\u001b[0m\u001b[1;33m:\u001b[0m\u001b[1;33m\u001b[0m\u001b[1;33m\u001b[0m\u001b[0m\n",
      "\u001b[1;32m~\\Anaconda3\\lib\\site-packages\\matplotlib\\projections\\__init__.py\u001b[0m in \u001b[0;36mget_projection_class\u001b[1;34m(self, name)\u001b[0m\n\u001b[0;32m     24\u001b[0m         \"\"\"\n\u001b[1;32m---> 25\u001b[1;33m         \u001b[1;32mreturn\u001b[0m \u001b[0mself\u001b[0m\u001b[1;33m.\u001b[0m\u001b[0m_all_projection_types\u001b[0m\u001b[1;33m[\u001b[0m\u001b[0mname\u001b[0m\u001b[1;33m]\u001b[0m\u001b[1;33m\u001b[0m\u001b[1;33m\u001b[0m\u001b[0m\n\u001b[0m\u001b[0;32m     26\u001b[0m \u001b[1;33m\u001b[0m\u001b[0m\n",
      "\u001b[1;31mKeyError\u001b[0m: '3d'",
      "\nDuring handling of the above exception, another exception occurred:\n",
      "\u001b[1;31mValueError\u001b[0m                                Traceback (most recent call last)",
      "\u001b[1;32m<ipython-input-19-7b7df9b85d69>\u001b[0m in \u001b[0;36m<module>\u001b[1;34m\u001b[0m\n\u001b[0;32m      1\u001b[0m \u001b[0mfig\u001b[0m \u001b[1;33m=\u001b[0m \u001b[0mplt\u001b[0m\u001b[1;33m.\u001b[0m\u001b[0mfigure\u001b[0m\u001b[1;33m(\u001b[0m\u001b[1;33m)\u001b[0m\u001b[1;33m\u001b[0m\u001b[1;33m\u001b[0m\u001b[0m\n\u001b[1;32m----> 2\u001b[1;33m \u001b[0max\u001b[0m \u001b[1;33m=\u001b[0m \u001b[0mfig\u001b[0m\u001b[1;33m.\u001b[0m\u001b[0madd_subplot\u001b[0m\u001b[1;33m(\u001b[0m\u001b[0mprojection\u001b[0m\u001b[1;33m=\u001b[0m\u001b[1;34m'3d'\u001b[0m\u001b[1;33m)\u001b[0m\u001b[1;33m\u001b[0m\u001b[1;33m\u001b[0m\u001b[0m\n\u001b[0m\u001b[0;32m      3\u001b[0m \u001b[0mwidth\u001b[0m \u001b[1;33m=\u001b[0m \u001b[1;36m0.01\u001b[0m\u001b[1;33m\u001b[0m\u001b[1;33m\u001b[0m\u001b[0m\n\u001b[0;32m      4\u001b[0m \u001b[0mdepth\u001b[0m \u001b[1;33m=\u001b[0m \u001b[1;36m0.0005\u001b[0m\u001b[1;33m*\u001b[0m\u001b[0mnp\u001b[0m\u001b[1;33m.\u001b[0m\u001b[0mpi\u001b[0m\u001b[1;33m\u001b[0m\u001b[1;33m\u001b[0m\u001b[0m\n\u001b[0;32m      5\u001b[0m \u001b[0max\u001b[0m\u001b[1;33m.\u001b[0m\u001b[0mbar3d\u001b[0m\u001b[1;33m(\u001b[0m\u001b[0mx\u001b[0m\u001b[1;33m,\u001b[0m\u001b[0my\u001b[0m\u001b[1;33m,\u001b[0m\u001b[0mz\u001b[0m\u001b[1;33m,\u001b[0m\u001b[0mwidth\u001b[0m\u001b[1;33m,\u001b[0m\u001b[0mdepth\u001b[0m\u001b[1;33m,\u001b[0m\u001b[0mmismatches\u001b[0m\u001b[1;33m)\u001b[0m\u001b[1;33m\u001b[0m\u001b[1;33m\u001b[0m\u001b[0m\n",
      "\u001b[1;32m~\\Anaconda3\\lib\\site-packages\\matplotlib\\figure.py\u001b[0m in \u001b[0;36madd_subplot\u001b[1;34m(self, *args, **kwargs)\u001b[0m\n\u001b[0;32m   1394\u001b[0m         \u001b[1;32melse\u001b[0m\u001b[1;33m:\u001b[0m\u001b[1;33m\u001b[0m\u001b[1;33m\u001b[0m\u001b[0m\n\u001b[0;32m   1395\u001b[0m             \u001b[0mprojection_class\u001b[0m\u001b[1;33m,\u001b[0m \u001b[0mkwargs\u001b[0m\u001b[1;33m,\u001b[0m \u001b[0mkey\u001b[0m \u001b[1;33m=\u001b[0m\u001b[0;31m \u001b[0m\u001b[0;31m\\\u001b[0m\u001b[1;33m\u001b[0m\u001b[1;33m\u001b[0m\u001b[0m\n\u001b[1;32m-> 1396\u001b[1;33m                 \u001b[0mself\u001b[0m\u001b[1;33m.\u001b[0m\u001b[0m_process_projection_requirements\u001b[0m\u001b[1;33m(\u001b[0m\u001b[1;33m*\u001b[0m\u001b[0margs\u001b[0m\u001b[1;33m,\u001b[0m \u001b[1;33m**\u001b[0m\u001b[0mkwargs\u001b[0m\u001b[1;33m)\u001b[0m\u001b[1;33m\u001b[0m\u001b[1;33m\u001b[0m\u001b[0m\n\u001b[0m\u001b[0;32m   1397\u001b[0m \u001b[1;33m\u001b[0m\u001b[0m\n\u001b[0;32m   1398\u001b[0m             \u001b[1;31m# try to find the axes with this key in the stack\u001b[0m\u001b[1;33m\u001b[0m\u001b[1;33m\u001b[0m\u001b[1;33m\u001b[0m\u001b[0m\n",
      "\u001b[1;32m~\\Anaconda3\\lib\\site-packages\\matplotlib\\figure.py\u001b[0m in \u001b[0;36m_process_projection_requirements\u001b[1;34m(self, polar, projection, *args, **kwargs)\u001b[0m\n\u001b[0;32m   1118\u001b[0m \u001b[1;33m\u001b[0m\u001b[0m\n\u001b[0;32m   1119\u001b[0m         \u001b[1;32mif\u001b[0m \u001b[0misinstance\u001b[0m\u001b[1;33m(\u001b[0m\u001b[0mprojection\u001b[0m\u001b[1;33m,\u001b[0m \u001b[0mstr\u001b[0m\u001b[1;33m)\u001b[0m \u001b[1;32mor\u001b[0m \u001b[0mprojection\u001b[0m \u001b[1;32mis\u001b[0m \u001b[1;32mNone\u001b[0m\u001b[1;33m:\u001b[0m\u001b[1;33m\u001b[0m\u001b[1;33m\u001b[0m\u001b[0m\n\u001b[1;32m-> 1120\u001b[1;33m             \u001b[0mprojection_class\u001b[0m \u001b[1;33m=\u001b[0m \u001b[0mprojections\u001b[0m\u001b[1;33m.\u001b[0m\u001b[0mget_projection_class\u001b[0m\u001b[1;33m(\u001b[0m\u001b[0mprojection\u001b[0m\u001b[1;33m)\u001b[0m\u001b[1;33m\u001b[0m\u001b[1;33m\u001b[0m\u001b[0m\n\u001b[0m\u001b[0;32m   1121\u001b[0m         \u001b[1;32melif\u001b[0m \u001b[0mhasattr\u001b[0m\u001b[1;33m(\u001b[0m\u001b[0mprojection\u001b[0m\u001b[1;33m,\u001b[0m \u001b[1;34m'_as_mpl_axes'\u001b[0m\u001b[1;33m)\u001b[0m\u001b[1;33m:\u001b[0m\u001b[1;33m\u001b[0m\u001b[1;33m\u001b[0m\u001b[0m\n\u001b[0;32m   1122\u001b[0m             \u001b[0mprojection_class\u001b[0m\u001b[1;33m,\u001b[0m \u001b[0mextra_kwargs\u001b[0m \u001b[1;33m=\u001b[0m \u001b[0mprojection\u001b[0m\u001b[1;33m.\u001b[0m\u001b[0m_as_mpl_axes\u001b[0m\u001b[1;33m(\u001b[0m\u001b[1;33m)\u001b[0m\u001b[1;33m\u001b[0m\u001b[1;33m\u001b[0m\u001b[0m\n",
      "\u001b[1;32m~\\Anaconda3\\lib\\site-packages\\matplotlib\\projections\\__init__.py\u001b[0m in \u001b[0;36mget_projection_class\u001b[1;34m(projection)\u001b[0m\n\u001b[0;32m     58\u001b[0m         \u001b[1;32mreturn\u001b[0m \u001b[0mprojection_registry\u001b[0m\u001b[1;33m.\u001b[0m\u001b[0mget_projection_class\u001b[0m\u001b[1;33m(\u001b[0m\u001b[0mprojection\u001b[0m\u001b[1;33m)\u001b[0m\u001b[1;33m\u001b[0m\u001b[1;33m\u001b[0m\u001b[0m\n\u001b[0;32m     59\u001b[0m     \u001b[1;32mexcept\u001b[0m \u001b[0mKeyError\u001b[0m\u001b[1;33m:\u001b[0m\u001b[1;33m\u001b[0m\u001b[1;33m\u001b[0m\u001b[0m\n\u001b[1;32m---> 60\u001b[1;33m         \u001b[1;32mraise\u001b[0m \u001b[0mValueError\u001b[0m\u001b[1;33m(\u001b[0m\u001b[1;34m\"Unknown projection %r\"\u001b[0m \u001b[1;33m%\u001b[0m \u001b[0mprojection\u001b[0m\u001b[1;33m)\u001b[0m\u001b[1;33m\u001b[0m\u001b[1;33m\u001b[0m\u001b[0m\n\u001b[0m\u001b[0;32m     61\u001b[0m \u001b[1;33m\u001b[0m\u001b[0m\n\u001b[0;32m     62\u001b[0m \u001b[1;33m\u001b[0m\u001b[0m\n",
      "\u001b[1;31mValueError\u001b[0m: Unknown projection '3d'"
     ]
    },
    {
     "data": {
      "text/plain": [
       "<Figure size 432x288 with 0 Axes>"
      ]
     },
     "metadata": {},
     "output_type": "display_data"
    }
   ],
   "source": [
    "fig = plt.figure()\n",
    "ax = fig.add_subplot(projection='3d')\n",
    "width = 0.01\n",
    "depth = 0.0005*np.pi\n",
    "ax.bar3d(x,y,z,width,depth,mismatches)"
   ]
  },
  {
   "cell_type": "code",
   "execution_count": null,
   "metadata": {},
   "outputs": [],
   "source": []
  }
 ],
 "metadata": {
  "kernelspec": {
   "display_name": "Python 3",
   "language": "python",
   "name": "python3"
  },
  "language_info": {
   "codemirror_mode": {
    "name": "ipython",
    "version": 3
   },
   "file_extension": ".py",
   "mimetype": "text/x-python",
   "name": "python",
   "nbconvert_exporter": "python",
   "pygments_lexer": "ipython3",
   "version": "3.7.4"
  }
 },
 "nbformat": 4,
 "nbformat_minor": 2
}
